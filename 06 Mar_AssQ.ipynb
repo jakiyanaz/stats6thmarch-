{
 "cells": [
  {
   "cell_type": "markdown",
   "id": "6787b91b-a98d-4a57-a6e1-665d755f1c02",
   "metadata": {},
   "source": [
    "## Q1. What is Statistics?"
   ]
  },
  {
   "cell_type": "markdown",
   "id": "efbfe740-08b5-4306-817e-b67b5a2b90af",
   "metadata": {},
   "source": [
    "Ans:\n",
    "    Statistics is the science of collecting, organizing and analyzing the data."
   ]
  },
  {
   "cell_type": "markdown",
   "id": "71f55fdb-c014-472a-ad6a-dc38d4888988",
   "metadata": {},
   "source": [
    "## Q2. Define the different types of statistics and give an example of when each type might be used."
   ]
  },
  {
   "cell_type": "markdown",
   "id": "065e27fb-3085-4634-8b20-8209719e45c0",
   "metadata": {},
   "source": [
    "Ans: \n",
    "    \n",
    "    Types of statistics:\n",
    "    1. Descriptive statistics : It consists of organizing and summarizing the data.\n",
    "        eg: What is average height of students in sample class\n",
    "        \n",
    "    2. Inferential statistics : It consists of using measured data to form conclusion.\n",
    "        eg: Are the heights of students in the classroom similar to what you expect in the entire college?"
   ]
  },
  {
   "cell_type": "markdown",
   "id": "0136ebee-337c-44c1-a3fb-14ade9f8e88a",
   "metadata": {},
   "source": [
    "## Q3.  What are the different types of data and how do they differ from each other? Provide an example of each type of data."
   ]
  },
  {
   "cell_type": "markdown",
   "id": "5060a033-c9ce-45a3-83ce-8d8f6cd20771",
   "metadata": {},
   "source": [
    "Ans:\n",
    "    \n",
    "    Types of data:\n",
    "        1. Quantitative data : This is numerical data.\n",
    "        2. Qualitative data : This is categorical data.\n",
    "    \n",
    "    Types of Quantitative data:\n",
    "        1. Discrete data : The count of data is whole number only\n",
    "                eg: No. of bank accounts\n",
    "        2. Continuous data : The count of data can be any number.\n",
    "                eg: Weight, height, temperature\n",
    "    \n",
    "    Types of Qualitative data:\n",
    "        1. Nominal data : This data can't be ranked. \n",
    "                eg: Gender\n",
    "        2. Ordinal data : This data can be ranked. Rank matters more than value.\n",
    "                eg: Rank of students"
   ]
  },
  {
   "cell_type": "markdown",
   "id": "8177dd6e-0b76-4d42-8127-e631c52e4a46",
   "metadata": {},
   "source": [
    "## Q4. Categorise the following datasets with respect to quantitative and qualitative data types:\n",
    "\n",
    "(i)\tGrading in exam: A+, A, B+, B, C+, C, D, E\n",
    "\n",
    "(ii)\tColour of mangoes: yellow, green, orange, red\n",
    "\n",
    "(iii)\tHeight data of a class: [178.9, 179, 179.5, 176, 177.2, 178.3, 175.8,...]\n",
    "\n",
    "(iv)\tNumber of mangoes exported by a farm: [500, 600, 478, 672, …]"
   ]
  },
  {
   "cell_type": "markdown",
   "id": "ef3d87b3-8a1b-4c81-b3ed-0f28ec1f3db6",
   "metadata": {},
   "source": [
    "## Ans: \n",
    "(i) Qualitative data (Ordinal)\n",
    "\n",
    "(ii) Qualitative data (nominal)\n",
    "\n",
    "(iii) Quantitative (continuous)\n",
    "\n",
    "(iv) Quantitative (discrete)"
   ]
  },
  {
   "cell_type": "markdown",
   "id": "bdeecaec-4826-41b7-8095-235c81573bc3",
   "metadata": {},
   "source": [
    "## Q5. Explain the concept of levels of measurement and give an example of a variable for each level."
   ]
  },
  {
   "cell_type": "markdown",
   "id": "46a5826d-a9e8-42b5-bdca-acb7612d31e4",
   "metadata": {},
   "source": [
    "Ans:\n",
    "\n",
    "    Level of measurement:\n",
    "    1. Nominal level\n",
    "            eg: Gender, color\n",
    "    2. Ordinal level\n",
    "            eg: Ranking according to educational qualification\n",
    "    3. Interval level\n",
    "            eg: Temperature\n",
    "    4. Ratio level\n",
    "            eg: Ratio of percentage of two students"
   ]
  },
  {
   "cell_type": "markdown",
   "id": "8356449c-a4be-49e9-8c86-e6a9bcfb2901",
   "metadata": {},
   "source": [
    "## Q6. Why is it important to understand the level of measurement when analyzing data? Provide an example to illustrate your answer."
   ]
  },
  {
   "cell_type": "markdown",
   "id": "cdc94e9a-756b-483b-b09d-2557ad1bf2cb",
   "metadata": {},
   "source": [
    "Ans:\n",
    "    \n",
    "    Data Transformations: The level of measurement guides the transformations that may be required to analyze the data effectively. For example, if you have ordinal data, you may need to convert it to numeric form or apply non-parametric tests. Understanding the level of measurement helps you identify the necessary data transformations to ensure the validity of your analyses."
   ]
  },
  {
   "cell_type": "markdown",
   "id": "da17053f-b2b2-4618-b9fe-0bec2848cdff",
   "metadata": {},
   "source": [
    "## Q7. How nominal data type is different from ordinal data type."
   ]
  },
  {
   "cell_type": "markdown",
   "id": "492eb2b6-aca1-4d65-8ccb-27eb6ffd94c8",
   "metadata": {},
   "source": [
    "Ans: \n",
    "    \n",
    "    In nominal data type order does not matter. While in ordinal data type order matters."
   ]
  },
  {
   "cell_type": "markdown",
   "id": "9bca2ad2-882a-4871-bdbd-8c6d591b6b75",
   "metadata": {},
   "source": [
    "## Q8. Which type of plot can be used to display data in terms of range?"
   ]
  },
  {
   "cell_type": "markdown",
   "id": "7cac27d8-f125-4a39-8135-7edbdbc2ddd1",
   "metadata": {},
   "source": [
    "Ans:  Histogram"
   ]
  },
  {
   "cell_type": "markdown",
   "id": "0f92aac0-557c-46b1-86d5-9131bab834fb",
   "metadata": {},
   "source": [
    "## Q9. Describe the difference between descriptive and inferential statistics. Give an example of each type of statistics and explain how they are used."
   ]
  },
  {
   "cell_type": "markdown",
   "id": "d8d66a73-7b21-46d4-b222-423f1f31e7a2",
   "metadata": {},
   "source": [
    "Ans:\n",
    "    \n",
    "    Descriptive statistics involve summarizing and describing the main features and characteristics of a dataset. It aims to provide a concise and meaningful summary of the data to gain insights and understand its properties. \n",
    "    \n",
    "    Inferential statistics, on the other hand, involves making inferences, predictions, or generalizations about a population based on a sample of data. It uses probability theory and statistical models to draw conclusions beyond the observed data."
   ]
  },
  {
   "cell_type": "markdown",
   "id": "b765fbfd-b192-4329-8a18-291cd5b6af25",
   "metadata": {},
   "source": [
    "## Q10. What are some common measures of central tendency and variability used in statistics? Explain how each measure can be used to describe a dataset"
   ]
  },
  {
   "cell_type": "markdown",
   "id": "6dd2c993-97c2-4c87-885b-cf5a4fb6475d",
   "metadata": {},
   "source": [
    "Ans:\n",
    "    \n",
    "    Measures of central tendency:\n",
    "        1. Mean : Gives the average value from dataset\n",
    "        2. Median : Gives the central value. Mainly used in the case of outliers\n",
    "        3. Mode : Gives the value occured most frequently.\n",
    "        \n",
    "    Measures of variability:\n",
    "        1. Variance : Provides information about how the data is spread in the given region.\n",
    "        2. Standard deviation : Provides information about at how many standard deviation from mean a data lies."
   ]
  },
  {
   "cell_type": "code",
   "execution_count": null,
   "id": "78c2c56c-34c7-405b-8916-b573a5ab3236",
   "metadata": {},
   "outputs": [],
   "source": []
  }
 ],
 "metadata": {
  "kernelspec": {
   "display_name": "Python 3 (ipykernel)",
   "language": "python",
   "name": "python3"
  },
  "language_info": {
   "codemirror_mode": {
    "name": "ipython",
    "version": 3
   },
   "file_extension": ".py",
   "mimetype": "text/x-python",
   "name": "python",
   "nbconvert_exporter": "python",
   "pygments_lexer": "ipython3",
   "version": "3.10.8"
  }
 },
 "nbformat": 4,
 "nbformat_minor": 5
}
